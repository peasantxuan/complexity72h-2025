{
 "cells": [
  {
   "cell_type": "markdown",
   "id": "a2ff6c05",
   "metadata": {},
   "source": [
    "# Complexity72h - Busy Bees (Ecological Networks)\n",
    "\n",
    "## Load data, build graphs, and compute metrics"
   ]
  },
  {
   "cell_type": "code",
   "execution_count": null,
   "id": "72299261",
   "metadata": {},
   "outputs": [],
   "source": [
    "%load_ext autoreload\n",
    "%autoreload 2\n",
    "\n",
    "import os\n",
    "import pandas as pd\n",
    "from functions import *\n",
    "\n",
    "folder = \"violetavivi/complexity72h_2025/data\"\n",
    "datasets = [f\"{folder}/{d}\" for d in sorted(os.listdir(folder)) if os.path.isdir(f\"{folder}/{d}\")]\n",
    "\n",
    "for dataset in datasets:\n",
    "    try:\n",
    "        # Load species labels.\n",
    "        labels = load_labels(\"matrix_A.csv\", folder=dataset)\n",
    "        # Matrices and vectors.\n",
    "        A = load_matrix(\"matrix_A.csv\", folder=dataset)\n",
    "        A_sd = load_matrix(\"matrix_A_sd.csv\", folder=dataset)\n",
    "        B = load_matrix(\"matrix_B.csv\", folder=dataset)\n",
    "        B_sd = load_matrix(\"matrix_B_sd.csv\", folder=dataset)\n",
    "        env = load_vector(\"env.csv\", folder=dataset)\n",
    "        rainfall = load_vector(f\"rainfall_anomaly.csv\", folder=dataset)\n",
    "        matrices = build_matrices(A, B, P=env)\n",
    "        # Years the dataset comprises.\n",
    "        years = load_vector(f\"r_vector.csv\", folder=dataset, quotechar='\"', usecols=0, dtype=int)[:len(matrices)]\n",
    "        # Build temporal graph.\n",
    "        TG = build_temporal_graph(matrices)\n",
    "        # Compute metrics to verify correlation.\n",
    "        centralizations = compute_centralizations(TG)\n",
    "        biedges = compute_biedges(TG, years=years)\n",
    "        nmis = compute_nmis(TG)\n",
    "        dcnmis = compute_nmis(TG, dc=True)\n",
    "        # Plot temporal graph.\n",
    "        names = [f\"{year} ($R$={int(r)}, $H$={h:.2f})\" if h else f\"{year} ($R$={int(r)})\"\n",
    "                 for year, h, r in zip(years, [0]+dcnmis, env[:len(matrices)])]\n",
    "        fig = draw_graph(TG, labels=labels, title=dataset.split(\"/\")[-1], names=names)\n",
    "    except:\n",
    "        print(f\"Error loading data for dataset: {dataset}\")\n",
    "        # continue\n",
    "        raise\n",
    "    else:\n",
    "        print(f\"Loaded dataset: {dataset}\")\n",
    "    break\n",
    "\n",
    "# fig.tight_layout()\n",
    "fig.savefig(f\"graph.png\", format=\"png\", dpi=300)\n",
    "fig.savefig(f\"graph.svg\", format=\"svg\")\n",
    "fig"
   ]
  },
  {
   "cell_type": "markdown",
   "id": "b1227e43",
   "metadata": {},
   "source": [
    "## Verify correlation between different metrics"
   ]
  },
  {
   "cell_type": "markdown",
   "id": "9b460e13",
   "metadata": {},
   "source": [
    "### Degree-corrected NMI and environmental data"
   ]
  },
  {
   "cell_type": "code",
   "execution_count": null,
   "id": "07d9e436",
   "metadata": {},
   "outputs": [],
   "source": [
    "df = pd.DataFrame(\n",
    "    {\"dcnmi\": [0]+dcnmis, \"rainfall\": rainfall},\n",
    "    index=range(2015, 2015+len(TG)),\n",
    ")\n",
    "\n",
    "# normalize\n",
    "for col in df.columns:\n",
    "    df[col] = (df[col] - df[col].min()) / (df[col].max() - df[col].min())\n",
    "\n",
    "fig = df.plot(marker=\"o\")\n",
    "fig.grid(True, color=\"lightgray\", linestyle=\"--\", linewidth=0.5)\n",
    "fig.set_yticks([0,.1,.2,.3,.4,.5,.6,.7,.8,.9,1])\n",
    "fig.set_title(\"DCNMI and rainfall (Normalized)\")\n",
    "\n",
    "df.corr()"
   ]
  },
  {
   "cell_type": "markdown",
   "id": "0c92db82",
   "metadata": {},
   "source": [
    "### Degree centralization and environmental data\n",
    "\n",
    "> **NOTE:** degree centralization is pretty much the same as graph entropy!"
   ]
  },
  {
   "cell_type": "code",
   "execution_count": null,
   "id": "f0b0075b",
   "metadata": {},
   "outputs": [],
   "source": [
    "df = pd.DataFrame(\n",
    "    {\"env\": env, \"centralization_in\": centralizations[\"in_degree\"]},\n",
    "    index=range(2015, 2015+len(TG)),\n",
    ")\n",
    "\n",
    "# normalize\n",
    "for col in df.columns:\n",
    "    df[col] = (df[col] - df[col].min()) / (df[col].max() - df[col].min())\n",
    "\n",
    "fig = df.plot(marker=\"o\")\n",
    "fig.grid(True, color=\"lightgray\", linestyle=\"--\", linewidth=0.5)\n",
    "fig.set_yticks([0,.1,.2,.3,.4,.5,.6,.7,.8,.9,1])\n",
    "fig.set_title(\"Graph in-degree centralization and rainfall (Normalized)\")\n",
    "\n",
    "df.corr()"
   ]
  },
  {
   "cell_type": "markdown",
   "id": "5923da25",
   "metadata": {},
   "source": [
    "### Bidirectional edges and environmental data"
   ]
  },
  {
   "cell_type": "code",
   "execution_count": null,
   "id": "81d99713",
   "metadata": {},
   "outputs": [],
   "source": [
    "df = pd.DataFrame(\n",
    "    {\"env\": env, \"bidirectional\": biedges},\n",
    "    index=range(2015, 2015+len(TG)),\n",
    ")\n",
    "\n",
    "# normalize\n",
    "for col in df.columns:\n",
    "    df[col] = (df[col] - df[col].min()) / (df[col].max() - df[col].min())\n",
    "\n",
    "fig = df.plot(marker=\"o\")\n",
    "fig.grid(True, color=\"lightgray\", linestyle=\"--\", linewidth=0.5)\n",
    "fig.set_yticks([0,.1,.2,.3,.4,.5,.6,.7,.8,.9,1])\n",
    "fig.set_title(\"Bidirectional edges and rainfall (Normalized)\")\n",
    "\n",
    "df.corr()"
   ]
  },
  {
   "cell_type": "markdown",
   "id": "f27d8702",
   "metadata": {},
   "source": [
    "### Number of positive and negative edges"
   ]
  },
  {
   "cell_type": "code",
   "execution_count": null,
   "id": "10e3d421",
   "metadata": {},
   "outputs": [],
   "source": [
    "pos_edges, neg_edges = [], []\n",
    "\n",
    "for G in TG:\n",
    "    p = [e for e in G.edges if G.edges[e][\"weight\"] > 0]\n",
    "    n = [e for e in G.edges if G.edges[e][\"weight\"] < 0]\n",
    "    pos_edges.append(len(p)/(len(p)+len(n)))\n",
    "    neg_edges.append(len(n)/(len(p)+len(n)))\n",
    "\n",
    "df = pd.DataFrame(\n",
    "    {\"positive_edges\": pos_edges, \"negative_edges\": neg_edges},\n",
    "    index=range(2015, 2015+len(TG)),\n",
    ")\n",
    "\n",
    "fig = df.plot.bar(\n",
    "    stacked=True,\n",
    "    figsize=(12, 6),\n",
    "    title=\"Positive and negative edges per year\",\n",
    "    ylabel=\"Number of edges\",\n",
    "    xlabel=\"Year\",\n",
    "    color=[tab10[0], tab10[3]],\n",
    ")\n",
    "\n",
    "fig.grid(True, color=\"lightgray\", linestyle=\"--\", linewidth=0.5)\n",
    "fig.set_xticklabels(f\"\")"
   ]
  },
  {
   "cell_type": "markdown",
   "id": "32660f77",
   "metadata": {},
   "source": [
    "___"
   ]
  },
  {
   "cell_type": "code",
   "execution_count": null,
   "id": "c78001c0",
   "metadata": {},
   "outputs": [],
   "source": [
    "import pandas as pd\n",
    "\n",
    "df = pd.DataFrame(\n",
    "    {\n",
    "        # \"entropy\": [graph_entropy(G) for G in TG],\n",
    "        # \"rainfall\": rainfall,\n",
    "        # \"rainfall_anomaly\": [rainfall[i] - rainfall[i-1] if i > 0 else 0 for i in range(len(rainfall))],\n",
    "        # \"env\": env,\n",
    "        # \"centralization\": centralizations[\"degree\"],\n",
    "        # \"centralization_in\": centralizations[\"in_degree\"],\n",
    "        # \"centralization_out\": centralizations[\"out_degree\"],\n",
    "        # \"bidirectional\": biedges,\n",
    "        # \"nmi\": [0] + nmis,  # Start with 0 for the first year as there's no previous year to compare.\n",
    "        # \"dcnmi\": [0] + dcnmis,  # Start with 0 for the first year as there's no previous year\n",
    "    },\n",
    "    index=range(2015, 2015+len(TG)),\n",
    ")\n",
    "\n",
    "for col in df.columns:\n",
    "    # if col in [\"rainfall\", \"rainfall_anomaly\", \"env\"]:\n",
    "        df[col] = (df[col] - df[col].min()) / (df[col].max() - df[col].min())\n",
    "\n",
    "fig = df.plot(marker=\"o\")\n",
    "fig.grid(True, color=\"lightgray\", linestyle=\"--\", linewidth=0.5)\n",
    "fig.set_yticks([0,.1,.2,.3,.4,.5,.6,.7,.8,.9,1])\n",
    "\n",
    "df.corr()"
   ]
  }
 ],
 "metadata": {
  "kernelspec": {
   "display_name": "phd",
   "language": "python",
   "name": "python3"
  },
  "language_info": {
   "codemirror_mode": {
    "name": "ipython",
    "version": 3
   },
   "file_extension": ".py",
   "mimetype": "text/x-python",
   "name": "python",
   "nbconvert_exporter": "python",
   "pygments_lexer": "ipython3",
   "version": "3.11.8"
  }
 },
 "nbformat": 4,
 "nbformat_minor": 5
}
